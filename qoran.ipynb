{
 "cells": [
  {
   "cell_type": "code",
   "execution_count": 2,
   "metadata": {},
   "outputs": [],
   "source": [
    "import pyquran as q\n",
    "\n"
   ]
  },
  {
   "cell_type": "code",
   "execution_count": 67,
   "metadata": {},
   "outputs": [],
   "source": [
    "d_abajad = {'ا': 1,\n",
    "            'ب': 2,\n",
    "            'ج': 3,\n",
    "            'د': 4,\n",
    "            'ه': 5,\n",
    "            'و': 6,\n",
    "            'ز': 7,\n",
    "            'ح': 8,\n",
    "            'ط': 9,\n",
    "            'ي': 10,\n",
    "            'ك': 20,\n",
    "            'ل': 30,\n",
    "            'م': 40,\n",
    "            'ن': 50,\n",
    "            'س': 60,\n",
    "            'ع': 70,\n",
    "            'ف': 80,\n",
    "            'ص': 90,\n",
    "            'ق': 100,\n",
    "            'ر': 200,\n",
    "            'ش': 300,\n",
    "            'ت': 400,\n",
    "            'ث': 500,\n",
    "            'خ': 600,\n",
    "            'ذ': 700,\n",
    "            'ض': 800,\n",
    "            'ظ': 900,\n",
    "            'غ': 1000,\n",
    "            'ء': 0,\n",
    "            'ئ': 0,\n",
    "            'ؤ': 0,\n",
    "            'ة':5,\n",
    "            'ى':1,\n",
    "            'آ':1,\n",
    "            'أ':1,\n",
    "            'إ':1,\n",
    "            ' ':0,\n",
    "            'ـ':0,\n",
    "            'ّ':0,\n",
    "            'َ':0,\n",
    "            'ً':0,\n",
    "            'ئ':1,\n",
    "            'ٔ' : 0,\n",
    "            'ء' : 1,\n",
    "            'ئ' : 1,\n",
    "            'ؤ' : 1,\n",
    "            'آ' : 1,\n",
    "            'أ' : 1,\n",
    "            'إ' : 1,\n",
    "            'آ' : 1,\n",
    "            'ى' : 10,\n",
    "            }\n"
   ]
  },
  {
   "cell_type": "code",
   "execution_count": 48,
   "metadata": {},
   "outputs": [
    {
     "data": {
      "text/plain": [
       "{'ٔ': 0}"
      ]
     },
     "execution_count": 48,
     "metadata": {},
     "output_type": "execute_result"
    }
   ],
   "source": [
    "ist"
   ]
  },
  {
   "cell_type": "code",
   "execution_count": 46,
   "metadata": {},
   "outputs": [],
   "source": [
    "ist = {}\n",
    "def hisab_sarir(s):\n",
    "    \"\"\"Hisab sarir\"\"\"\n",
    "    sum = 0\n",
    "    for i in s:\n",
    "        try:\n",
    "            sum += d_abajad[i]\n",
    "        except:\n",
    "            ist[i] = 0\n",
    "            sum += 0\n",
    "    return sum"
   ]
  },
  {
   "cell_type": "code",
   "execution_count": 17,
   "metadata": {},
   "outputs": [],
   "source": [
    "r  = q.quran.get_sura(108, with_tashkeel=False)"
   ]
  },
  {
   "cell_type": "code",
   "execution_count": 18,
   "metadata": {},
   "outputs": [
    {
     "data": {
      "text/plain": [
       "['إنا أعطينك الكوثر', 'فصل لربك وانحر', 'إن شانئك هو الأبتر']"
      ]
     },
     "execution_count": 18,
     "metadata": {},
     "output_type": "execute_result"
    }
   ],
   "source": [
    "r"
   ]
  },
  {
   "cell_type": "code",
   "execution_count": 21,
   "metadata": {},
   "outputs": [],
   "source": [
    "def get_hisab_sura(sura_num):\n",
    "    r = q.quran.get_sura(sura_num, with_tashkeel=False)\n",
    "    \"\"\"Hisab sarir\"\"\"\n",
    "    l = [hisab_sarir(i) for i in r]\n",
    "    return r,l, sum(l)"
   ]
  },
  {
   "cell_type": "code",
   "execution_count": 29,
   "metadata": {},
   "outputs": [
    {
     "data": {
      "text/plain": [
       "(['قل أعوذ برب الناس',\n",
       "  'ملك الناس',\n",
       "  'إله الناس',\n",
       "  'من شر الوسواس الخناس',\n",
       "  'الذى يوسوس فى صدور الناس',\n",
       "  'من الجنة والناس'],\n",
       " [1253, 232, 178, 1496, 1397, 327],\n",
       " 4883)"
      ]
     },
     "execution_count": 29,
     "metadata": {},
     "output_type": "execute_result"
    }
   ],
   "source": [
    "get_hisab_sura(114)"
   ]
  },
  {
   "cell_type": "code",
   "execution_count": 68,
   "metadata": {},
   "outputs": [
    {
     "data": {
      "text/html": [
       "<div>\n",
       "<style scoped>\n",
       "    .dataframe tbody tr th:only-of-type {\n",
       "        vertical-align: middle;\n",
       "    }\n",
       "\n",
       "    .dataframe tbody tr th {\n",
       "        vertical-align: top;\n",
       "    }\n",
       "\n",
       "    .dataframe thead th {\n",
       "        text-align: right;\n",
       "    }\n",
       "</style>\n",
       "<table border=\"1\" class=\"dataframe\">\n",
       "  <thead>\n",
       "    <tr style=\"text-align: right;\">\n",
       "      <th></th>\n",
       "      <th>sura_num</th>\n",
       "      <th>sura_name</th>\n",
       "      <th>sura_hisab</th>\n",
       "      <th>sura_ayat</th>\n",
       "    </tr>\n",
       "  </thead>\n",
       "  <tbody>\n",
       "    <tr>\n",
       "      <th>0</th>\n",
       "      <td>1</td>\n",
       "      <td>بسم الله الرحمن الرحيم</td>\n",
       "      <td>10143</td>\n",
       "      <td>786</td>\n",
       "    </tr>\n",
       "    <tr>\n",
       "      <th>1</th>\n",
       "      <td>1</td>\n",
       "      <td>الحمد لله رب العلمين</td>\n",
       "      <td>10143</td>\n",
       "      <td>581</td>\n",
       "    </tr>\n",
       "    <tr>\n",
       "      <th>2</th>\n",
       "      <td>1</td>\n",
       "      <td>الرحمن الرحيم</td>\n",
       "      <td>10143</td>\n",
       "      <td>618</td>\n",
       "    </tr>\n",
       "    <tr>\n",
       "      <th>3</th>\n",
       "      <td>1</td>\n",
       "      <td>ملك يوم الدين</td>\n",
       "      <td>10143</td>\n",
       "      <td>241</td>\n",
       "    </tr>\n",
       "    <tr>\n",
       "      <th>4</th>\n",
       "      <td>1</td>\n",
       "      <td>إياك نعبد وإياك نستعين</td>\n",
       "      <td>10143</td>\n",
       "      <td>836</td>\n",
       "    </tr>\n",
       "    <tr>\n",
       "      <th>...</th>\n",
       "      <td>...</td>\n",
       "      <td>...</td>\n",
       "      <td>...</td>\n",
       "      <td>...</td>\n",
       "    </tr>\n",
       "    <tr>\n",
       "      <th>1</th>\n",
       "      <td>114</td>\n",
       "      <td>ملك الناس</td>\n",
       "      <td>4901</td>\n",
       "      <td>232</td>\n",
       "    </tr>\n",
       "    <tr>\n",
       "      <th>2</th>\n",
       "      <td>114</td>\n",
       "      <td>إله الناس</td>\n",
       "      <td>4901</td>\n",
       "      <td>178</td>\n",
       "    </tr>\n",
       "    <tr>\n",
       "      <th>3</th>\n",
       "      <td>114</td>\n",
       "      <td>من شر الوسواس الخناس</td>\n",
       "      <td>4901</td>\n",
       "      <td>1496</td>\n",
       "    </tr>\n",
       "    <tr>\n",
       "      <th>4</th>\n",
       "      <td>114</td>\n",
       "      <td>الذى يوسوس فى صدور الناس</td>\n",
       "      <td>4901</td>\n",
       "      <td>1415</td>\n",
       "    </tr>\n",
       "    <tr>\n",
       "      <th>5</th>\n",
       "      <td>114</td>\n",
       "      <td>من الجنة والناس</td>\n",
       "      <td>4901</td>\n",
       "      <td>327</td>\n",
       "    </tr>\n",
       "  </tbody>\n",
       "</table>\n",
       "<p>6236 rows × 4 columns</p>\n",
       "</div>"
      ],
      "text/plain": [
       "    sura_num                 sura_name  sura_hisab  sura_ayat\n",
       "0          1    بسم الله الرحمن الرحيم       10143        786\n",
       "1          1      الحمد لله رب العلمين       10143        581\n",
       "2          1             الرحمن الرحيم       10143        618\n",
       "3          1             ملك يوم الدين       10143        241\n",
       "4          1    إياك نعبد وإياك نستعين       10143        836\n",
       "..       ...                       ...         ...        ...\n",
       "1        114                 ملك الناس        4901        232\n",
       "2        114                 إله الناس        4901        178\n",
       "3        114      من شر الوسواس الخناس        4901       1496\n",
       "4        114  الذى يوسوس فى صدور الناس        4901       1415\n",
       "5        114           من الجنة والناس        4901        327\n",
       "\n",
       "[6236 rows x 4 columns]"
      ]
     },
     "execution_count": 68,
     "metadata": {},
     "output_type": "execute_result"
    }
   ],
   "source": [
    "import pandas as pd\n",
    "df = pd.DataFrame()\n",
    "\n",
    "for i in range(1,115):\n",
    "    r,l, sum_l = get_hisab_sura(i)\n",
    "    d = {'sura_num':i, 'sura_name':r, 'sura_hisab':sum_l, 'sura_ayat':l}\n",
    "    df = pd.concat([df, pd.DataFrame(d)])\n",
    "    \n",
    "df"
   ]
  },
  {
   "cell_type": "code",
   "execution_count": 62,
   "metadata": {},
   "outputs": [
    {
     "data": {
      "text/plain": [
       "{'ٔ': 0}"
      ]
     },
     "execution_count": 62,
     "metadata": {},
     "output_type": "execute_result"
    }
   ],
   "source": [
    "ist"
   ]
  },
  {
   "cell_type": "code",
   "execution_count": 69,
   "metadata": {},
   "outputs": [],
   "source": [
    "df.to_csv('sura_hisab.csv')"
   ]
  },
  {
   "cell_type": "code",
   "execution_count": 73,
   "metadata": {},
   "outputs": [
    {
     "data": {
      "text/html": [
       "<div>\n",
       "<style scoped>\n",
       "    .dataframe tbody tr th:only-of-type {\n",
       "        vertical-align: middle;\n",
       "    }\n",
       "\n",
       "    .dataframe tbody tr th {\n",
       "        vertical-align: top;\n",
       "    }\n",
       "\n",
       "    .dataframe thead th {\n",
       "        text-align: right;\n",
       "    }\n",
       "</style>\n",
       "<table border=\"1\" class=\"dataframe\">\n",
       "  <thead>\n",
       "    <tr style=\"text-align: right;\">\n",
       "      <th></th>\n",
       "      <th>sura_num</th>\n",
       "      <th>sura_name</th>\n",
       "      <th>sura_hisab</th>\n",
       "      <th>sura_ayat</th>\n",
       "    </tr>\n",
       "  </thead>\n",
       "  <tbody>\n",
       "  </tbody>\n",
       "</table>\n",
       "</div>"
      ],
      "text/plain": [
       "Empty DataFrame\n",
       "Columns: [sura_num, sura_name, sura_hisab, sura_ayat]\n",
       "Index: []"
      ]
     },
     "execution_count": 73,
     "metadata": {},
     "output_type": "execute_result"
    }
   ],
   "source": [
    "def look_num_sura(num):\n",
    "    return df[df['sura_hisab'] == num]\n",
    "\n",
    "def look_num_aya(num):\n",
    "    return df[df['sura_ayat'] == num]\n",
    "\n",
    "\n",
    "look_num_aya(107)"
   ]
  },
  {
   "cell_type": "code",
   "execution_count": 75,
   "metadata": {},
   "outputs": [
    {
     "data": {
      "text/plain": [
       "1563    32\n",
       "1685    13\n",
       "806     10\n",
       "734      9\n",
       "2290     8\n",
       "2013     8\n",
       "48       7\n",
       "2293     7\n",
       "1296     6\n",
       "1026     6\n",
       "Name: sura_ayat, dtype: int64"
      ]
     },
     "execution_count": 75,
     "metadata": {},
     "output_type": "execute_result"
    }
   ],
   "source": [
    "#frequence of sura_ayat# top 10\n",
    "\n",
    "df['sura_ayat'].value_counts().head(10)\n",
    "    "
   ]
  },
  {
   "cell_type": "code",
   "execution_count": 77,
   "metadata": {},
   "outputs": [
    {
     "data": {
      "text/plain": [
       "1824035    286\n",
       "391800     227\n",
       "1054249    206\n",
       "1055860    200\n",
       "259589     182\n",
       "1116328    176\n",
       "933285     165\n",
       "387557     135\n",
       "737638     129\n",
       "557341     128\n",
       "Name: sura_hisab, dtype: int64"
      ]
     },
     "execution_count": 77,
     "metadata": {},
     "output_type": "execute_result"
    }
   ],
   "source": [
    "df['sura_hisab'].value_counts().head(10)"
   ]
  },
  {
   "cell_type": "code",
   "execution_count": 78,
   "metadata": {},
   "outputs": [
    {
     "data": {
      "text/html": [
       "<div>\n",
       "<style scoped>\n",
       "    .dataframe tbody tr th:only-of-type {\n",
       "        vertical-align: middle;\n",
       "    }\n",
       "\n",
       "    .dataframe tbody tr th {\n",
       "        vertical-align: top;\n",
       "    }\n",
       "\n",
       "    .dataframe thead th {\n",
       "        text-align: right;\n",
       "    }\n",
       "</style>\n",
       "<table border=\"1\" class=\"dataframe\">\n",
       "  <thead>\n",
       "    <tr style=\"text-align: right;\">\n",
       "      <th></th>\n",
       "      <th>sura_num</th>\n",
       "      <th>sura_name</th>\n",
       "      <th>sura_hisab</th>\n",
       "      <th>sura_ayat</th>\n",
       "    </tr>\n",
       "  </thead>\n",
       "  <tbody>\n",
       "    <tr>\n",
       "      <th>0</th>\n",
       "      <td>2</td>\n",
       "      <td>الم</td>\n",
       "      <td>1824035</td>\n",
       "      <td>71</td>\n",
       "    </tr>\n",
       "    <tr>\n",
       "      <th>1</th>\n",
       "      <td>2</td>\n",
       "      <td>ذلك الكتب لا ريب فيه هدى للمتقين</td>\n",
       "      <td>1824035</td>\n",
       "      <td>2220</td>\n",
       "    </tr>\n",
       "    <tr>\n",
       "      <th>2</th>\n",
       "      <td>2</td>\n",
       "      <td>الذين يؤمنون بالغيب ويقيمون الصلوة ومما رزقنهم...</td>\n",
       "      <td>1824035</td>\n",
       "      <td>3162</td>\n",
       "    </tr>\n",
       "    <tr>\n",
       "      <th>3</th>\n",
       "      <td>2</td>\n",
       "      <td>والذين يؤمنون بما أنزل إليك وما أنزل من قبلك و...</td>\n",
       "      <td>1824035</td>\n",
       "      <td>2636</td>\n",
       "    </tr>\n",
       "    <tr>\n",
       "      <th>4</th>\n",
       "      <td>2</td>\n",
       "      <td>أولئك على هدى من ربهم وأولئك هم المفلحون</td>\n",
       "      <td>1824035</td>\n",
       "      <td>878</td>\n",
       "    </tr>\n",
       "    <tr>\n",
       "      <th>...</th>\n",
       "      <td>...</td>\n",
       "      <td>...</td>\n",
       "      <td>...</td>\n",
       "      <td>...</td>\n",
       "    </tr>\n",
       "    <tr>\n",
       "      <th>281</th>\n",
       "      <td>2</td>\n",
       "      <td>يأيها الذين ءامنوا إذا تداينتم بدين إلى أجل مس...</td>\n",
       "      <td>1824035</td>\n",
       "      <td>39232</td>\n",
       "    </tr>\n",
       "    <tr>\n",
       "      <th>282</th>\n",
       "      <td>2</td>\n",
       "      <td>وإن كنتم على سفر ولم تجدوا كاتبا فرهن مقبوضة ف...</td>\n",
       "      <td>1824035</td>\n",
       "      <td>11416</td>\n",
       "    </tr>\n",
       "    <tr>\n",
       "      <th>283</th>\n",
       "      <td>2</td>\n",
       "      <td>لله ما فى السموت وما فى الأرض وإن تبدوا ما فى ...</td>\n",
       "      <td>1824035</td>\n",
       "      <td>7915</td>\n",
       "    </tr>\n",
       "    <tr>\n",
       "      <th>284</th>\n",
       "      <td>2</td>\n",
       "      <td>ءامن الرسول بما أنزل إليه من ربه والمؤمنون كل ...</td>\n",
       "      <td>1824035</td>\n",
       "      <td>6028</td>\n",
       "    </tr>\n",
       "    <tr>\n",
       "      <th>285</th>\n",
       "      <td>2</td>\n",
       "      <td>لا يكلف الله نفسا إلا وسعها لها ما كسبت وعليها...</td>\n",
       "      <td>1824035</td>\n",
       "      <td>12858</td>\n",
       "    </tr>\n",
       "  </tbody>\n",
       "</table>\n",
       "<p>286 rows × 4 columns</p>\n",
       "</div>"
      ],
      "text/plain": [
       "     sura_num                                          sura_name  sura_hisab  \\\n",
       "0           2                                                الم     1824035   \n",
       "1           2                   ذلك الكتب لا ريب فيه هدى للمتقين     1824035   \n",
       "2           2  الذين يؤمنون بالغيب ويقيمون الصلوة ومما رزقنهم...     1824035   \n",
       "3           2  والذين يؤمنون بما أنزل إليك وما أنزل من قبلك و...     1824035   \n",
       "4           2           أولئك على هدى من ربهم وأولئك هم المفلحون     1824035   \n",
       "..        ...                                                ...         ...   \n",
       "281         2  يأيها الذين ءامنوا إذا تداينتم بدين إلى أجل مس...     1824035   \n",
       "282         2  وإن كنتم على سفر ولم تجدوا كاتبا فرهن مقبوضة ف...     1824035   \n",
       "283         2  لله ما فى السموت وما فى الأرض وإن تبدوا ما فى ...     1824035   \n",
       "284         2  ءامن الرسول بما أنزل إليه من ربه والمؤمنون كل ...     1824035   \n",
       "285         2  لا يكلف الله نفسا إلا وسعها لها ما كسبت وعليها...     1824035   \n",
       "\n",
       "     sura_ayat  \n",
       "0           71  \n",
       "1         2220  \n",
       "2         3162  \n",
       "3         2636  \n",
       "4          878  \n",
       "..         ...  \n",
       "281      39232  \n",
       "282      11416  \n",
       "283       7915  \n",
       "284       6028  \n",
       "285      12858  \n",
       "\n",
       "[286 rows x 4 columns]"
      ]
     },
     "execution_count": 78,
     "metadata": {},
     "output_type": "execute_result"
    }
   ],
   "source": [
    "look_num_sura(1824035)"
   ]
  },
  {
   "cell_type": "code",
   "execution_count": 115,
   "metadata": {},
   "outputs": [
    {
     "data": {
      "text/html": [
       "<div>\n",
       "<style scoped>\n",
       "    .dataframe tbody tr th:only-of-type {\n",
       "        vertical-align: middle;\n",
       "    }\n",
       "\n",
       "    .dataframe tbody tr th {\n",
       "        vertical-align: top;\n",
       "    }\n",
       "\n",
       "    .dataframe thead th {\n",
       "        text-align: right;\n",
       "    }\n",
       "</style>\n",
       "<table border=\"1\" class=\"dataframe\">\n",
       "  <thead>\n",
       "    <tr style=\"text-align: right;\">\n",
       "      <th></th>\n",
       "      <th>sura_num</th>\n",
       "      <th>sura_name</th>\n",
       "      <th>sura_hisab</th>\n",
       "      <th>sura_ayat</th>\n",
       "    </tr>\n",
       "  </thead>\n",
       "  <tbody>\n",
       "    <tr>\n",
       "      <th>0</th>\n",
       "      <td>2</td>\n",
       "      <td>الم</td>\n",
       "      <td>1824035</td>\n",
       "      <td>71</td>\n",
       "    </tr>\n",
       "    <tr>\n",
       "      <th>0</th>\n",
       "      <td>3</td>\n",
       "      <td>الم</td>\n",
       "      <td>1055860</td>\n",
       "      <td>71</td>\n",
       "    </tr>\n",
       "    <tr>\n",
       "      <th>0</th>\n",
       "      <td>20</td>\n",
       "      <td>طه</td>\n",
       "      <td>387557</td>\n",
       "      <td>14</td>\n",
       "    </tr>\n",
       "    <tr>\n",
       "      <th>0</th>\n",
       "      <td>29</td>\n",
       "      <td>الم</td>\n",
       "      <td>274020</td>\n",
       "      <td>71</td>\n",
       "    </tr>\n",
       "    <tr>\n",
       "      <th>0</th>\n",
       "      <td>30</td>\n",
       "      <td>الم</td>\n",
       "      <td>268148</td>\n",
       "      <td>71</td>\n",
       "    </tr>\n",
       "    <tr>\n",
       "      <th>0</th>\n",
       "      <td>31</td>\n",
       "      <td>الم</td>\n",
       "      <td>155334</td>\n",
       "      <td>71</td>\n",
       "    </tr>\n",
       "    <tr>\n",
       "      <th>0</th>\n",
       "      <td>32</td>\n",
       "      <td>الم</td>\n",
       "      <td>110422</td>\n",
       "      <td>71</td>\n",
       "    </tr>\n",
       "    <tr>\n",
       "      <th>0</th>\n",
       "      <td>36</td>\n",
       "      <td>يس</td>\n",
       "      <td>217041</td>\n",
       "      <td>70</td>\n",
       "    </tr>\n",
       "    <tr>\n",
       "      <th>0</th>\n",
       "      <td>40</td>\n",
       "      <td>حم</td>\n",
       "      <td>360486</td>\n",
       "      <td>48</td>\n",
       "    </tr>\n",
       "    <tr>\n",
       "      <th>0</th>\n",
       "      <td>41</td>\n",
       "      <td>حم</td>\n",
       "      <td>236413</td>\n",
       "      <td>48</td>\n",
       "    </tr>\n",
       "    <tr>\n",
       "      <th>0</th>\n",
       "      <td>42</td>\n",
       "      <td>حم</td>\n",
       "      <td>244375</td>\n",
       "      <td>48</td>\n",
       "    </tr>\n",
       "    <tr>\n",
       "      <th>0</th>\n",
       "      <td>43</td>\n",
       "      <td>حم</td>\n",
       "      <td>253828</td>\n",
       "      <td>48</td>\n",
       "    </tr>\n",
       "    <tr>\n",
       "      <th>0</th>\n",
       "      <td>44</td>\n",
       "      <td>حم</td>\n",
       "      <td>95869</td>\n",
       "      <td>48</td>\n",
       "    </tr>\n",
       "    <tr>\n",
       "      <th>0</th>\n",
       "      <td>45</td>\n",
       "      <td>حم</td>\n",
       "      <td>153303</td>\n",
       "      <td>48</td>\n",
       "    </tr>\n",
       "    <tr>\n",
       "      <th>0</th>\n",
       "      <td>46</td>\n",
       "      <td>حم</td>\n",
       "      <td>191868</td>\n",
       "      <td>48</td>\n",
       "    </tr>\n",
       "    <tr>\n",
       "      <th>34</th>\n",
       "      <td>80</td>\n",
       "      <td>وأمه وأبيه</td>\n",
       "      <td>46971</td>\n",
       "      <td>76</td>\n",
       "    </tr>\n",
       "    <tr>\n",
       "      <th>15</th>\n",
       "      <td>86</td>\n",
       "      <td>وأكيد كيدا</td>\n",
       "      <td>16586</td>\n",
       "      <td>76</td>\n",
       "    </tr>\n",
       "  </tbody>\n",
       "</table>\n",
       "</div>"
      ],
      "text/plain": [
       "    sura_num   sura_name  sura_hisab  sura_ayat\n",
       "0          2         الم     1824035         71\n",
       "0          3         الم     1055860         71\n",
       "0         20          طه      387557         14\n",
       "0         29         الم      274020         71\n",
       "0         30         الم      268148         71\n",
       "0         31         الم      155334         71\n",
       "0         32         الم      110422         71\n",
       "0         36          يس      217041         70\n",
       "0         40          حم      360486         48\n",
       "0         41          حم      236413         48\n",
       "0         42          حم      244375         48\n",
       "0         43          حم      253828         48\n",
       "0         44          حم       95869         48\n",
       "0         45          حم      153303         48\n",
       "0         46          حم      191868         48\n",
       "34        80  وأمه وأبيه       46971         76\n",
       "15        86  وأكيد كيدا       16586         76"
      ]
     },
     "execution_count": 115,
     "metadata": {},
     "output_type": "execute_result"
    }
   ],
   "source": [
    "# ayat with sura_aya  < 100\n",
    "\n",
    "df[df['sura_ayat'] < 99]"
   ]
  },
  {
   "cell_type": "code",
   "execution_count": 103,
   "metadata": {},
   "outputs": [
    {
     "data": {
      "text/plain": [
       "{1: 'إ',\n",
       " 2: 'ب',\n",
       " 3: 'ج',\n",
       " 4: 'د',\n",
       " 5: 'ة',\n",
       " 6: 'و',\n",
       " 7: 'ز',\n",
       " 8: 'ح',\n",
       " 9: 'ط',\n",
       " 10: 'ى',\n",
       " 20: 'ك',\n",
       " 30: 'ل',\n",
       " 40: 'م',\n",
       " 50: 'ن',\n",
       " 60: 'س',\n",
       " 70: 'ع',\n",
       " 80: 'ف',\n",
       " 90: 'ص',\n",
       " 100: 'ق',\n",
       " 200: 'ر',\n",
       " 300: 'ش',\n",
       " 400: 'ت',\n",
       " 500: 'ث',\n",
       " 600: 'خ',\n",
       " 700: 'ذ',\n",
       " 800: 'ض',\n",
       " 900: 'ظ',\n",
       " 1000: 'غ',\n",
       " 0: 'ٔ'}"
      ]
     },
     "execution_count": 103,
     "metadata": {},
     "output_type": "execute_result"
    }
   ],
   "source": [
    "horof_num = {}\n",
    "for i in d_abajad.keys():\n",
    "    horof_num[ hisab_sarir(i)] = i\n",
    "    \n",
    "horof_num"
   ]
  },
  {
   "cell_type": "code",
   "execution_count": 112,
   "metadata": {},
   "outputs": [
    {
     "data": {
      "text/plain": [
       "{'هو': 11,\n",
       " 'الله': 66,\n",
       " 'رحمان': 299,\n",
       " 'رحيم': 258,\n",
       " 'ملك': 90,\n",
       " 'قدوس': 170,\n",
       " 'سلام': 131,\n",
       " 'مؤمن': 131,\n",
       " 'مهيمن': 145,\n",
       " 'عزيز': 94,\n",
       " 'جبار': 206,\n",
       " 'متكبر': 662,\n",
       " 'خالق': 731,\n",
       " 'بارئ': 204,\n",
       " 'مصور': 336,\n",
       " 'غفار': 1281,\n",
       " 'قهار': 306,\n",
       " 'واحد': 19,\n",
       " 'احد': 13,\n",
       " 'صمد': 134,\n",
       " 'قادر': 305,\n",
       " 'مقتدر': 744,\n",
       " 'مقتصد': 634,\n",
       " 'غفور': 1286,\n",
       " 'رؤوف': 287,\n",
       " 'مالك': 91,\n",
       " 'ذوالجلالوالاكرام': 1100,\n",
       " 'حفيظ': 998,\n",
       " 'محيي': 68,\n",
       " 'مميت': 490,\n",
       " 'حي': 18,\n",
       " 'قيوم': 156,\n",
       " 'واجد': 14,\n",
       " 'متعال': 541,\n",
       " 'باسط': 72,\n",
       " 'خافض': 1481,\n",
       " 'رافع': 351,\n",
       " 'معز': 117,\n",
       " 'مذل': 770,\n",
       " 'سميع': 180,\n",
       " 'بصير': 302,\n",
       " 'حكم': 68,\n",
       " 'عدل': 104,\n",
       " 'ذوالعرش': 1307,\n",
       " 'المجيد': 88,\n",
       " 'ماجد': 48,\n",
       " 'الاحد': 44,\n",
       " 'الصمد': 165,\n",
       " 'القادر': 336}"
      ]
     },
     "execution_count": 112,
     "metadata": {},
     "output_type": "execute_result"
    }
   ],
   "source": [
    "asma = ['هو','الله','رحمان', 'رحيم', 'ملك', \n",
    "        'قدوس', 'سلام', 'مؤمن', 'مهيمن', 'عزيز',\n",
    "        'جبار', 'متكبر', 'خالق', 'بارئ', 'مصور',\n",
    "        'غفار', 'قهار', 'واحد', 'احد', 'صمد',\n",
    "    'قادر', 'مقتدر', 'مقتصد', 'غفور', 'رؤوف',\n",
    "    'مالك', 'ذوالجلالوالاكرام','ملك', 'حفيظ', 'محيي',\n",
    "    'مميت', 'حي', 'قيوم', 'واجد', 'متعال', 'باسط',\n",
    "    'خافض', 'رافع', 'معز', 'مذل', 'سميع', 'بصير',\n",
    "    'حكم', 'عدل', 'ذوالعرش', 'المجيد', 'واحد', 'احد',\n",
    "'ماجد', 'واحد', 'احد', 'الاحد', 'الصمد', 'القادر']\n",
    "\n",
    "num_asma = [hisab_sarir(i) for i in asma]\n",
    "\n",
    "asma_num = {}\n",
    "for i in range(len(asma)):\n",
    "    asma_num[asma[i]] = num_asma[i]\n",
    "\n",
    "        \n",
    "asma_num"
   ]
  },
  {
   "cell_type": "code",
   "execution_count": 109,
   "metadata": {},
   "outputs": [
    {
     "data": {
      "text/plain": [
       "['ز', 'م', 'ش']"
      ]
     },
     "execution_count": 109,
     "metadata": {},
     "output_type": "execute_result"
    }
   ],
   "source": [
    "\n",
    "def transform(num):\n",
    "    l = []\n",
    "    i = 0\n",
    "    while num > 0:\n",
    "        r = num % 10\n",
    "        if r > 0:\n",
    "            l.append(r * 10**i)\n",
    "        num = num // 10\n",
    "        i += 1\n",
    "    return l\n",
    "    \n",
    "def istinta9(num):\n",
    "    l = transform(num)\n",
    "    l = [horof_num[i] for i in l]\n",
    "    return l\n",
    "\n",
    "\n",
    "istinta9(347)\n"
   ]
  },
  {
   "cell_type": "code",
   "execution_count": 113,
   "metadata": {},
   "outputs": [
    {
     "data": {
      "text/plain": [
       "23369538"
      ]
     },
     "execution_count": 113,
     "metadata": {},
     "output_type": "execute_result"
    }
   ],
   "source": [
    "df['sura_ayat'].sum()"
   ]
  }
 ],
 "metadata": {
  "kernelspec": {
   "display_name": "base",
   "language": "python",
   "name": "python3"
  },
  "language_info": {
   "codemirror_mode": {
    "name": "ipython",
    "version": 3
   },
   "file_extension": ".py",
   "mimetype": "text/x-python",
   "name": "python",
   "nbconvert_exporter": "python",
   "pygments_lexer": "ipython3",
   "version": "3.9.15"
  },
  "orig_nbformat": 4,
  "vscode": {
   "interpreter": {
    "hash": "3f55d5aafd5cde089e46cd56b88b2a90dd508fdafc8ba92a5b3d96e3fcb63383"
   }
  }
 },
 "nbformat": 4,
 "nbformat_minor": 2
}
